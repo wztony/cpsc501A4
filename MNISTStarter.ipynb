{
  "nbformat": 4,
  "nbformat_minor": 0,
  "metadata": {
    "colab": {
      "name": "MNISTStarter.ipynb",
      "provenance": [],
      "collapsed_sections": []
    },
    "kernelspec": {
      "name": "python3",
      "display_name": "Python 3"
    }
  },
  "cells": [
    {
      "cell_type": "code",
      "metadata": {
        "id": "m4eZDEIAx0aH",
        "colab_type": "code",
        "outputId": "3f806d8e-c3d8-4484-a0d2-61cb7ad55eac",
        "colab": {
          "base_uri": "https://localhost:8080/",
          "height": 34
        }
      },
      "source": [
        "try:\n",
        "  # %tensorflow_version only exists in Colab.\n",
        "  %tensorflow_version 2.x\n",
        "except Exception:\n",
        "  pass"
      ],
      "execution_count": 1,
      "outputs": [
        {
          "output_type": "stream",
          "text": [
            "TensorFlow 2.x selected.\n"
          ],
          "name": "stdout"
        }
      ]
    },
    {
      "cell_type": "code",
      "metadata": {
        "id": "ITCcIDcJx02Q",
        "colab_type": "code",
        "outputId": "f64b7583-abf0-4536-cdd7-cffc7c182217",
        "colab": {
          "base_uri": "https://localhost:8080/",
          "height": 884
        }
      },
      "source": [
        "import tensorflow as tf\n",
        "\n",
        "print(\"--Get data--\")\n",
        "mnist = tf.keras.datasets.mnist\n",
        "(x_train, y_train), (x_test, y_test) = mnist.load_data()\n",
        "\n",
        "print(\"--Process data--\")\n",
        "x_train, x_test = x_train / 255.0, x_test / 255.0\n",
        "\n",
        "print(\"--Make model--\")\n",
        "model = tf.keras.models.Sequential([\n",
        "  tf.keras.layers.Flatten(input_shape=(28, 28)),\n",
        "  tf.keras.layers.Dense(200, activation='sigmoid'),\n",
        "  tf.keras.layers.Dropout(0.2),\n",
        "  tf.keras.layers.Dense(100, activation='sigmoid'),\n",
        "  tf.keras.layers.Dropout(0.2),\n",
        "  tf.keras.layers.Dense(10, activation='softmax')\n",
        "])\n",
        "model.compile(optimizer='adam', loss='sparse_categorical_crossentropy', metrics=['accuracy'])\n",
        "\n",
        "print(\"--Fit model--\")\n",
        "model.fit(x_train, y_train, epochs=20, verbose=2)\n",
        "\n",
        "print(\"--Evaluate model--\")\n",
        "model_loss, model_acc = model.evaluate(x_test,  y_test, verbose=2)\n",
        "print(f\"Model Loss:    {model_loss:.2f}\")\n",
        "print(f\"Model Accuray: {model_acc*100:.1f}%\")"
      ],
      "execution_count": 2,
      "outputs": [
        {
          "output_type": "stream",
          "text": [
            "--Get data--\n",
            "Downloading data from https://storage.googleapis.com/tensorflow/tf-keras-datasets/mnist.npz\n",
            "11493376/11490434 [==============================] - 0s 0us/step\n",
            "--Process data--\n",
            "--Make model--\n",
            "--Fit model--\n",
            "Train on 60000 samples\n",
            "Epoch 1/20\n",
            "60000/60000 - 6s - loss: 0.4907 - accuracy: 0.8597\n",
            "Epoch 2/20\n",
            "60000/60000 - 5s - loss: 0.2145 - accuracy: 0.9366\n",
            "Epoch 3/20\n",
            "60000/60000 - 5s - loss: 0.1559 - accuracy: 0.9536\n",
            "Epoch 4/20\n",
            "60000/60000 - 5s - loss: 0.1232 - accuracy: 0.9626\n",
            "Epoch 5/20\n",
            "60000/60000 - 5s - loss: 0.1012 - accuracy: 0.9695\n",
            "Epoch 6/20\n",
            "60000/60000 - 5s - loss: 0.0879 - accuracy: 0.9729\n",
            "Epoch 7/20\n",
            "60000/60000 - 5s - loss: 0.0753 - accuracy: 0.9774\n",
            "Epoch 8/20\n",
            "60000/60000 - 5s - loss: 0.0677 - accuracy: 0.9788\n",
            "Epoch 9/20\n",
            "60000/60000 - 5s - loss: 0.0597 - accuracy: 0.9810\n",
            "Epoch 10/20\n",
            "60000/60000 - 5s - loss: 0.0544 - accuracy: 0.9833\n",
            "Epoch 11/20\n",
            "60000/60000 - 5s - loss: 0.0501 - accuracy: 0.9836\n",
            "Epoch 12/20\n",
            "60000/60000 - 5s - loss: 0.0451 - accuracy: 0.9856\n",
            "Epoch 13/20\n",
            "60000/60000 - 5s - loss: 0.0420 - accuracy: 0.9864\n",
            "Epoch 14/20\n",
            "60000/60000 - 5s - loss: 0.0376 - accuracy: 0.9875\n",
            "Epoch 15/20\n",
            "60000/60000 - 5s - loss: 0.0374 - accuracy: 0.9881\n",
            "Epoch 16/20\n",
            "60000/60000 - 5s - loss: 0.0326 - accuracy: 0.9891\n",
            "Epoch 17/20\n",
            "60000/60000 - 5s - loss: 0.0314 - accuracy: 0.9896\n",
            "Epoch 18/20\n",
            "60000/60000 - 5s - loss: 0.0288 - accuracy: 0.9905\n",
            "Epoch 19/20\n",
            "60000/60000 - 5s - loss: 0.0273 - accuracy: 0.9909\n",
            "Epoch 20/20\n",
            "60000/60000 - 5s - loss: 0.0268 - accuracy: 0.9909\n",
            "--Evaluate model--\n",
            "10000/1 - 1s - loss: 0.0346 - accuracy: 0.9808\n",
            "Model Loss:    0.07\n",
            "Model Accuray: 98.1%\n"
          ],
          "name": "stdout"
        }
      ]
    },
    {
      "cell_type": "code",
      "metadata": {
        "id": "uqKuNbSJEaWc",
        "colab_type": "code",
        "colab": {}
      },
      "source": [
        "#Save Model to MNIST.h5"
      ],
      "execution_count": 0,
      "outputs": []
    },
    {
      "cell_type": "code",
      "metadata": {
        "id": "0Vc4ePZwERJW",
        "colab_type": "code",
        "colab": {}
      },
      "source": [
        "from google.colab import files\n",
        "model.save('MNIST.h5')\n",
        "files.download('MNIST.h5')"
      ],
      "execution_count": 0,
      "outputs": []
    }
  ]
}